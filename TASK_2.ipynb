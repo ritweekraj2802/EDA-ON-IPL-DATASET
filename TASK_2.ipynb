{
  "nbformat": 4,
  "nbformat_minor": 0,
  "metadata": {
    "colab": {
      "name": "TASK-2.ipynb",
      "provenance": []
    },
    "kernelspec": {
      "name": "python3",
      "display_name": "Python 3"
    },
    "language_info": {
      "name": "python"
    }
  },
  "cells": [
    {
      "cell_type": "markdown",
      "metadata": {
        "id": "kpBtdQ7FkNdj"
      },
      "source": [
        "RITWEEK RAJ\n",
        "rithik1234keshri@gmail.com\n",
        "9905601681\n",
        "task-2\n",
        "\n",
        "Exploratory Data Analysis on IPL Data\n",
        "\n",
        "\n",
        "\n",
        "\n"
      ]
    },
    {
      "cell_type": "markdown",
      "metadata": {
        "id": "FRDaBo1BkVI2"
      },
      "source": [
        "The Indian Premier League is a professional Twenty20 cricket league, contested by eight teams based out of eight different Indian cities. Being a fan of the IPL, I was drawn to this dataset as soon as I saw it on Kaggle. I did some EDA and found some really cool insights which I am here to share. Please share any insights, suggestions through comments."
      ]
    },
    {
      "cell_type": "markdown",
      "metadata": {
        "id": "4cAm4ra1kbdv"
      },
      "source": [
        "About the Dataset\n",
        "This dataset consists of two seperate CSV files : matches and deliveries. These files contain information of each match summary and ball by ball details, respectively."
      ]
    },
    {
      "cell_type": "markdown",
      "metadata": {
        "id": "tTwx53Aqkgwi"
      },
      "source": [
        "Importing Libraries"
      ]
    },
    {
      "cell_type": "code",
      "metadata": {
        "id": "0WEX-n95ki2C"
      },
      "source": [
        "import pandas as pd\n",
        "import numpy as np\n",
        "import matplotlib.pyplot as plt\n",
        "import matplotlib\n",
        "import seaborn as sns"
      ],
      "execution_count": null,
      "outputs": []
    },
    {
      "cell_type": "code",
      "metadata": {
        "id": "oZo675IbkpG5"
      },
      "source": [
        "%matplotlib inline\n",
        "sns.set_style(\"white\")\n",
        "sns.set_palette(\"husl\", 14, 1)\n",
        "matplotlib.rcParams['font.size'] = 12\n",
        "matplotlib.rcParams['figure.figsize'] = (13, 5)\n",
        "matplotlib.rcParams['figure.facecolor'] = '#00000000'"
      ],
      "execution_count": null,
      "outputs": []
    },
    {
      "cell_type": "markdown",
      "metadata": {
        "id": "3w56vJQEkwcA"
      },
      "source": [
        "Data Preparation and Cleaning"
      ]
    },
    {
      "cell_type": "markdown",
      "metadata": {
        "id": "vXS71HEpk0bJ"
      },
      "source": [
        "Matches"
      ]
    },
    {
      "cell_type": "code",
      "metadata": {
        "colab": {
          "base_uri": "https://localhost:8080/",
          "height": 412
        },
        "id": "0dMNEyKek2Bk",
        "outputId": "46abbb57-605f-4e88-f628-cc6bfaf31091"
      },
      "source": [
        "matches = pd.read_csv('/IPL Matches 2008-2020.csv')\n",
        "matches.head()"
      ],
      "execution_count": null,
      "outputs": [
        {
          "output_type": "execute_result",
          "data": {
            "text/html": [
              "<div>\n",
              "<style scoped>\n",
              "    .dataframe tbody tr th:only-of-type {\n",
              "        vertical-align: middle;\n",
              "    }\n",
              "\n",
              "    .dataframe tbody tr th {\n",
              "        vertical-align: top;\n",
              "    }\n",
              "\n",
              "    .dataframe thead th {\n",
              "        text-align: right;\n",
              "    }\n",
              "</style>\n",
              "<table border=\"1\" class=\"dataframe\">\n",
              "  <thead>\n",
              "    <tr style=\"text-align: right;\">\n",
              "      <th></th>\n",
              "      <th>id</th>\n",
              "      <th>city</th>\n",
              "      <th>date</th>\n",
              "      <th>player_of_match</th>\n",
              "      <th>venue</th>\n",
              "      <th>neutral_venue</th>\n",
              "      <th>team1</th>\n",
              "      <th>team2</th>\n",
              "      <th>toss_winner</th>\n",
              "      <th>toss_decision</th>\n",
              "      <th>winner</th>\n",
              "      <th>result</th>\n",
              "      <th>result_margin</th>\n",
              "      <th>eliminator</th>\n",
              "      <th>method</th>\n",
              "      <th>umpire1</th>\n",
              "      <th>umpire2</th>\n",
              "    </tr>\n",
              "  </thead>\n",
              "  <tbody>\n",
              "    <tr>\n",
              "      <th>0</th>\n",
              "      <td>335982</td>\n",
              "      <td>Bangalore</td>\n",
              "      <td>2008-04-18</td>\n",
              "      <td>BB McCullum</td>\n",
              "      <td>M Chinnaswamy Stadium</td>\n",
              "      <td>0</td>\n",
              "      <td>Royal Challengers Bangalore</td>\n",
              "      <td>Kolkata Knight Riders</td>\n",
              "      <td>Royal Challengers Bangalore</td>\n",
              "      <td>field</td>\n",
              "      <td>Kolkata Knight Riders</td>\n",
              "      <td>runs</td>\n",
              "      <td>140.0</td>\n",
              "      <td>N</td>\n",
              "      <td>NaN</td>\n",
              "      <td>Asad Rauf</td>\n",
              "      <td>RE Koertzen</td>\n",
              "    </tr>\n",
              "    <tr>\n",
              "      <th>1</th>\n",
              "      <td>335983</td>\n",
              "      <td>Chandigarh</td>\n",
              "      <td>2008-04-19</td>\n",
              "      <td>MEK Hussey</td>\n",
              "      <td>Punjab Cricket Association Stadium, Mohali</td>\n",
              "      <td>0</td>\n",
              "      <td>Kings XI Punjab</td>\n",
              "      <td>Chennai Super Kings</td>\n",
              "      <td>Chennai Super Kings</td>\n",
              "      <td>bat</td>\n",
              "      <td>Chennai Super Kings</td>\n",
              "      <td>runs</td>\n",
              "      <td>33.0</td>\n",
              "      <td>N</td>\n",
              "      <td>NaN</td>\n",
              "      <td>MR Benson</td>\n",
              "      <td>SL Shastri</td>\n",
              "    </tr>\n",
              "    <tr>\n",
              "      <th>2</th>\n",
              "      <td>335984</td>\n",
              "      <td>Delhi</td>\n",
              "      <td>2008-04-19</td>\n",
              "      <td>MF Maharoof</td>\n",
              "      <td>Feroz Shah Kotla</td>\n",
              "      <td>0</td>\n",
              "      <td>Delhi Daredevils</td>\n",
              "      <td>Rajasthan Royals</td>\n",
              "      <td>Rajasthan Royals</td>\n",
              "      <td>bat</td>\n",
              "      <td>Delhi Daredevils</td>\n",
              "      <td>wickets</td>\n",
              "      <td>9.0</td>\n",
              "      <td>N</td>\n",
              "      <td>NaN</td>\n",
              "      <td>Aleem Dar</td>\n",
              "      <td>GA Pratapkumar</td>\n",
              "    </tr>\n",
              "    <tr>\n",
              "      <th>3</th>\n",
              "      <td>335985</td>\n",
              "      <td>Mumbai</td>\n",
              "      <td>2008-04-20</td>\n",
              "      <td>MV Boucher</td>\n",
              "      <td>Wankhede Stadium</td>\n",
              "      <td>0</td>\n",
              "      <td>Mumbai Indians</td>\n",
              "      <td>Royal Challengers Bangalore</td>\n",
              "      <td>Mumbai Indians</td>\n",
              "      <td>bat</td>\n",
              "      <td>Royal Challengers Bangalore</td>\n",
              "      <td>wickets</td>\n",
              "      <td>5.0</td>\n",
              "      <td>N</td>\n",
              "      <td>NaN</td>\n",
              "      <td>SJ Davis</td>\n",
              "      <td>DJ Harper</td>\n",
              "    </tr>\n",
              "    <tr>\n",
              "      <th>4</th>\n",
              "      <td>335986</td>\n",
              "      <td>Kolkata</td>\n",
              "      <td>2008-04-20</td>\n",
              "      <td>DJ Hussey</td>\n",
              "      <td>Eden Gardens</td>\n",
              "      <td>0</td>\n",
              "      <td>Kolkata Knight Riders</td>\n",
              "      <td>Deccan Chargers</td>\n",
              "      <td>Deccan Chargers</td>\n",
              "      <td>bat</td>\n",
              "      <td>Kolkata Knight Riders</td>\n",
              "      <td>wickets</td>\n",
              "      <td>5.0</td>\n",
              "      <td>N</td>\n",
              "      <td>NaN</td>\n",
              "      <td>BF Bowden</td>\n",
              "      <td>K Hariharan</td>\n",
              "    </tr>\n",
              "  </tbody>\n",
              "</table>\n",
              "</div>"
            ],
            "text/plain": [
              "       id        city        date  ... method    umpire1         umpire2\n",
              "0  335982   Bangalore  2008-04-18  ...    NaN  Asad Rauf     RE Koertzen\n",
              "1  335983  Chandigarh  2008-04-19  ...    NaN  MR Benson      SL Shastri\n",
              "2  335984       Delhi  2008-04-19  ...    NaN  Aleem Dar  GA Pratapkumar\n",
              "3  335985      Mumbai  2008-04-20  ...    NaN   SJ Davis       DJ Harper\n",
              "4  335986     Kolkata  2008-04-20  ...    NaN  BF Bowden     K Hariharan\n",
              "\n",
              "[5 rows x 17 columns]"
            ]
          },
          "metadata": {},
          "execution_count": 8
        }
      ]
    },
    {
      "cell_type": "code",
      "metadata": {
        "colab": {
          "base_uri": "https://localhost:8080/",
          "height": 298
        },
        "id": "c1dcimVAlgUx",
        "outputId": "d445c55a-e508-4499-a655-3fd95158eb08"
      },
      "source": [
        "matches.describe()"
      ],
      "execution_count": null,
      "outputs": [
        {
          "output_type": "execute_result",
          "data": {
            "text/html": [
              "<div>\n",
              "<style scoped>\n",
              "    .dataframe tbody tr th:only-of-type {\n",
              "        vertical-align: middle;\n",
              "    }\n",
              "\n",
              "    .dataframe tbody tr th {\n",
              "        vertical-align: top;\n",
              "    }\n",
              "\n",
              "    .dataframe thead th {\n",
              "        text-align: right;\n",
              "    }\n",
              "</style>\n",
              "<table border=\"1\" class=\"dataframe\">\n",
              "  <thead>\n",
              "    <tr style=\"text-align: right;\">\n",
              "      <th></th>\n",
              "      <th>id</th>\n",
              "      <th>neutral_venue</th>\n",
              "      <th>result_margin</th>\n",
              "    </tr>\n",
              "  </thead>\n",
              "  <tbody>\n",
              "    <tr>\n",
              "      <th>count</th>\n",
              "      <td>8.160000e+02</td>\n",
              "      <td>816.000000</td>\n",
              "      <td>799.000000</td>\n",
              "    </tr>\n",
              "    <tr>\n",
              "      <th>mean</th>\n",
              "      <td>7.563496e+05</td>\n",
              "      <td>0.094363</td>\n",
              "      <td>17.321652</td>\n",
              "    </tr>\n",
              "    <tr>\n",
              "      <th>std</th>\n",
              "      <td>3.058943e+05</td>\n",
              "      <td>0.292512</td>\n",
              "      <td>22.068427</td>\n",
              "    </tr>\n",
              "    <tr>\n",
              "      <th>min</th>\n",
              "      <td>3.359820e+05</td>\n",
              "      <td>0.000000</td>\n",
              "      <td>1.000000</td>\n",
              "    </tr>\n",
              "    <tr>\n",
              "      <th>25%</th>\n",
              "      <td>5.012278e+05</td>\n",
              "      <td>0.000000</td>\n",
              "      <td>6.000000</td>\n",
              "    </tr>\n",
              "    <tr>\n",
              "      <th>50%</th>\n",
              "      <td>7.292980e+05</td>\n",
              "      <td>0.000000</td>\n",
              "      <td>8.000000</td>\n",
              "    </tr>\n",
              "    <tr>\n",
              "      <th>75%</th>\n",
              "      <td>1.082626e+06</td>\n",
              "      <td>0.000000</td>\n",
              "      <td>19.500000</td>\n",
              "    </tr>\n",
              "    <tr>\n",
              "      <th>max</th>\n",
              "      <td>1.237181e+06</td>\n",
              "      <td>1.000000</td>\n",
              "      <td>146.000000</td>\n",
              "    </tr>\n",
              "  </tbody>\n",
              "</table>\n",
              "</div>"
            ],
            "text/plain": [
              "                 id  neutral_venue  result_margin\n",
              "count  8.160000e+02     816.000000     799.000000\n",
              "mean   7.563496e+05       0.094363      17.321652\n",
              "std    3.058943e+05       0.292512      22.068427\n",
              "min    3.359820e+05       0.000000       1.000000\n",
              "25%    5.012278e+05       0.000000       6.000000\n",
              "50%    7.292980e+05       0.000000       8.000000\n",
              "75%    1.082626e+06       0.000000      19.500000\n",
              "max    1.237181e+06       1.000000     146.000000"
            ]
          },
          "metadata": {},
          "execution_count": 9
        }
      ]
    },
    {
      "cell_type": "code",
      "metadata": {
        "colab": {
          "base_uri": "https://localhost:8080/"
        },
        "id": "o6p6DwugoQ73",
        "outputId": "e328073e-5333-40c9-a651-cdd1d84be3d3"
      },
      "source": [
        "matches.info()"
      ],
      "execution_count": null,
      "outputs": [
        {
          "output_type": "stream",
          "name": "stdout",
          "text": [
            "<class 'pandas.core.frame.DataFrame'>\n",
            "RangeIndex: 816 entries, 0 to 815\n",
            "Data columns (total 17 columns):\n",
            " #   Column           Non-Null Count  Dtype  \n",
            "---  ------           --------------  -----  \n",
            " 0   id               816 non-null    int64  \n",
            " 1   city             803 non-null    object \n",
            " 2   date             816 non-null    object \n",
            " 3   player_of_match  812 non-null    object \n",
            " 4   venue            816 non-null    object \n",
            " 5   neutral_venue    816 non-null    int64  \n",
            " 6   team1            816 non-null    object \n",
            " 7   team2            816 non-null    object \n",
            " 8   toss_winner      816 non-null    object \n",
            " 9   toss_decision    816 non-null    object \n",
            " 10  winner           812 non-null    object \n",
            " 11  result           812 non-null    object \n",
            " 12  result_margin    799 non-null    float64\n",
            " 13  eliminator       812 non-null    object \n",
            " 14  method           19 non-null     object \n",
            " 15  umpire1          816 non-null    object \n",
            " 16  umpire2          816 non-null    object \n",
            "dtypes: float64(1), int64(2), object(14)\n",
            "memory usage: 108.5+ KB\n"
          ]
        }
      ]
    },
    {
      "cell_type": "markdown",
      "metadata": {
        "id": "82JSkNRvoYRN"
      },
      "source": [
        "Let's check if the dataset contains Nan values"
      ]
    },
    {
      "cell_type": "code",
      "metadata": {
        "colab": {
          "base_uri": "https://localhost:8080/"
        },
        "id": "nzMM9r0hoZO7",
        "outputId": "719a4d89-ea2d-4b44-8843-0aa3996063d3"
      },
      "source": [
        "match_na = matches.isna().sum()\n",
        "match_na[match_na > 0]"
      ],
      "execution_count": null,
      "outputs": [
        {
          "output_type": "execute_result",
          "data": {
            "text/plain": [
              "city                13\n",
              "player_of_match      4\n",
              "winner               4\n",
              "result               4\n",
              "result_margin       17\n",
              "eliminator           4\n",
              "method             797\n",
              "dtype: int64"
            ]
          },
          "metadata": {},
          "execution_count": 11
        }
      ]
    },
    {
      "cell_type": "markdown",
      "metadata": {
        "id": "Arv9iQtnohWI"
      },
      "source": [
        "After inspecting the dataset we found that the columns winner, result, player_of_match has 4 nans. We found that the matches that were tied due to rains have nans in these columns. We can drop the nan rows as it will not affect our analysis."
      ]
    },
    {
      "cell_type": "code",
      "metadata": {
        "colab": {
          "base_uri": "https://localhost:8080/"
        },
        "id": "bMck0ZCfoh-7",
        "outputId": "a0d602c4-ec93-482f-d398-ec101f6706d7"
      },
      "source": [
        "matches = matches.dropna(subset = ['winner', 'result', 'player_of_match'])\n",
        "matches.shape"
      ],
      "execution_count": null,
      "outputs": [
        {
          "output_type": "execute_result",
          "data": {
            "text/plain": [
              "(812, 17)"
            ]
          },
          "metadata": {},
          "execution_count": 12
        }
      ]
    },
    {
      "cell_type": "markdown",
      "metadata": {
        "id": "EGtmQ812ooLU"
      },
      "source": [
        "The column 'method' has the highest number of NaNs in the dataset. The best course of action would probably be to drop the entire column. However, the rows where the 'method' column does have values are those matches where D/L method was used. Let us store it in another DataFrame and drop 'method' from matches."
      ]
    },
    {
      "cell_type": "code",
      "metadata": {
        "id": "9uIulB-Xoo0s"
      },
      "source": [
        "DL = matches.dropna(subset = ['method'])\n",
        "matches = matches.drop('method', axis = 1)"
      ],
      "execution_count": null,
      "outputs": []
    },
    {
      "cell_type": "code",
      "metadata": {
        "colab": {
          "base_uri": "https://localhost:8080/",
          "height": 361
        },
        "id": "8VnEYuMRosqI",
        "outputId": "a468bffe-fe45-4d56-8ace-0e72a29c34f2"
      },
      "source": [
        "DL.head()"
      ],
      "execution_count": null,
      "outputs": [
        {
          "output_type": "execute_result",
          "data": {
            "text/html": [
              "<div>\n",
              "<style scoped>\n",
              "    .dataframe tbody tr th:only-of-type {\n",
              "        vertical-align: middle;\n",
              "    }\n",
              "\n",
              "    .dataframe tbody tr th {\n",
              "        vertical-align: top;\n",
              "    }\n",
              "\n",
              "    .dataframe thead th {\n",
              "        text-align: right;\n",
              "    }\n",
              "</style>\n",
              "<table border=\"1\" class=\"dataframe\">\n",
              "  <thead>\n",
              "    <tr style=\"text-align: right;\">\n",
              "      <th></th>\n",
              "      <th>id</th>\n",
              "      <th>city</th>\n",
              "      <th>date</th>\n",
              "      <th>player_of_match</th>\n",
              "      <th>venue</th>\n",
              "      <th>neutral_venue</th>\n",
              "      <th>team1</th>\n",
              "      <th>team2</th>\n",
              "      <th>toss_winner</th>\n",
              "      <th>toss_decision</th>\n",
              "      <th>winner</th>\n",
              "      <th>result</th>\n",
              "      <th>result_margin</th>\n",
              "      <th>eliminator</th>\n",
              "      <th>method</th>\n",
              "      <th>umpire1</th>\n",
              "      <th>umpire2</th>\n",
              "    </tr>\n",
              "  </thead>\n",
              "  <tbody>\n",
              "    <tr>\n",
              "      <th>40</th>\n",
              "      <td>336022</td>\n",
              "      <td>Delhi</td>\n",
              "      <td>2008-05-17</td>\n",
              "      <td>DPMD Jayawardene</td>\n",
              "      <td>Feroz Shah Kotla</td>\n",
              "      <td>0</td>\n",
              "      <td>Delhi Daredevils</td>\n",
              "      <td>Kings XI Punjab</td>\n",
              "      <td>Delhi Daredevils</td>\n",
              "      <td>bat</td>\n",
              "      <td>Kings XI Punjab</td>\n",
              "      <td>runs</td>\n",
              "      <td>6.0</td>\n",
              "      <td>N</td>\n",
              "      <td>D/L</td>\n",
              "      <td>AV Jayaprakash</td>\n",
              "      <td>RE Koertzen</td>\n",
              "    </tr>\n",
              "    <tr>\n",
              "      <th>43</th>\n",
              "      <td>336025</td>\n",
              "      <td>Kolkata</td>\n",
              "      <td>2008-05-18</td>\n",
              "      <td>M Ntini</td>\n",
              "      <td>Eden Gardens</td>\n",
              "      <td>0</td>\n",
              "      <td>Kolkata Knight Riders</td>\n",
              "      <td>Chennai Super Kings</td>\n",
              "      <td>Kolkata Knight Riders</td>\n",
              "      <td>bat</td>\n",
              "      <td>Chennai Super Kings</td>\n",
              "      <td>runs</td>\n",
              "      <td>3.0</td>\n",
              "      <td>N</td>\n",
              "      <td>D/L</td>\n",
              "      <td>Asad Rauf</td>\n",
              "      <td>K Hariharan</td>\n",
              "    </tr>\n",
              "    <tr>\n",
              "      <th>60</th>\n",
              "      <td>392183</td>\n",
              "      <td>Cape Town</td>\n",
              "      <td>2009-04-19</td>\n",
              "      <td>DL Vettori</td>\n",
              "      <td>Newlands</td>\n",
              "      <td>1</td>\n",
              "      <td>Delhi Daredevils</td>\n",
              "      <td>Kings XI Punjab</td>\n",
              "      <td>Delhi Daredevils</td>\n",
              "      <td>field</td>\n",
              "      <td>Delhi Daredevils</td>\n",
              "      <td>wickets</td>\n",
              "      <td>10.0</td>\n",
              "      <td>N</td>\n",
              "      <td>D/L</td>\n",
              "      <td>MR Benson</td>\n",
              "      <td>SD Ranade</td>\n",
              "    </tr>\n",
              "    <tr>\n",
              "      <th>63</th>\n",
              "      <td>392186</td>\n",
              "      <td>Durban</td>\n",
              "      <td>2009-04-21</td>\n",
              "      <td>CH Gayle</td>\n",
              "      <td>Kingsmead</td>\n",
              "      <td>1</td>\n",
              "      <td>Kings XI Punjab</td>\n",
              "      <td>Kolkata Knight Riders</td>\n",
              "      <td>Kolkata Knight Riders</td>\n",
              "      <td>field</td>\n",
              "      <td>Kolkata Knight Riders</td>\n",
              "      <td>runs</td>\n",
              "      <td>11.0</td>\n",
              "      <td>N</td>\n",
              "      <td>D/L</td>\n",
              "      <td>DJ Harper</td>\n",
              "      <td>SD Ranade</td>\n",
              "    </tr>\n",
              "    <tr>\n",
              "      <th>89</th>\n",
              "      <td>392214</td>\n",
              "      <td>Centurion</td>\n",
              "      <td>2009-05-07</td>\n",
              "      <td>ML Hayden</td>\n",
              "      <td>SuperSport Park</td>\n",
              "      <td>1</td>\n",
              "      <td>Chennai Super Kings</td>\n",
              "      <td>Kings XI Punjab</td>\n",
              "      <td>Chennai Super Kings</td>\n",
              "      <td>bat</td>\n",
              "      <td>Chennai Super Kings</td>\n",
              "      <td>runs</td>\n",
              "      <td>12.0</td>\n",
              "      <td>N</td>\n",
              "      <td>D/L</td>\n",
              "      <td>DJ Harper</td>\n",
              "      <td>TH Wijewardene</td>\n",
              "    </tr>\n",
              "  </tbody>\n",
              "</table>\n",
              "</div>"
            ],
            "text/plain": [
              "        id       city        date  ... method         umpire1         umpire2\n",
              "40  336022      Delhi  2008-05-17  ...    D/L  AV Jayaprakash     RE Koertzen\n",
              "43  336025    Kolkata  2008-05-18  ...    D/L       Asad Rauf     K Hariharan\n",
              "60  392183  Cape Town  2009-04-19  ...    D/L       MR Benson       SD Ranade\n",
              "63  392186     Durban  2009-04-21  ...    D/L       DJ Harper       SD Ranade\n",
              "89  392214  Centurion  2009-05-07  ...    D/L       DJ Harper  TH Wijewardene\n",
              "\n",
              "[5 rows x 17 columns]"
            ]
          },
          "metadata": {},
          "execution_count": 14
        }
      ]
    },
    {
      "cell_type": "markdown",
      "metadata": {
        "id": "xdnBiJiAoxrX"
      },
      "source": [
        "Matches that were held in Dubai International Stadium had NaNs in their city column."
      ]
    },
    {
      "cell_type": "code",
      "metadata": {
        "id": "wXvyDuo4oz7A"
      },
      "source": [
        "matches.loc[matches.city.isna(), 'city'] = 'Dubai'"
      ],
      "execution_count": null,
      "outputs": []
    },
    {
      "cell_type": "markdown",
      "metadata": {
        "id": "qhtz0doZo6cT"
      },
      "source": [
        "Lets take a look at the 'result_margin' column which has na values."
      ]
    },
    {
      "cell_type": "code",
      "metadata": {
        "colab": {
          "base_uri": "https://localhost:8080/",
          "height": 429
        },
        "id": "IKQDnN4eo7I_",
        "outputId": "a9b6da14-7a11-4f91-98b9-d307e47b7e88"
      },
      "source": [
        "matches.loc[matches.result_margin.isna()].head()"
      ],
      "execution_count": null,
      "outputs": [
        {
          "output_type": "execute_result",
          "data": {
            "text/html": [
              "<div>\n",
              "<style scoped>\n",
              "    .dataframe tbody tr th:only-of-type {\n",
              "        vertical-align: middle;\n",
              "    }\n",
              "\n",
              "    .dataframe tbody tr th {\n",
              "        vertical-align: top;\n",
              "    }\n",
              "\n",
              "    .dataframe thead th {\n",
              "        text-align: right;\n",
              "    }\n",
              "</style>\n",
              "<table border=\"1\" class=\"dataframe\">\n",
              "  <thead>\n",
              "    <tr style=\"text-align: right;\">\n",
              "      <th></th>\n",
              "      <th>id</th>\n",
              "      <th>city</th>\n",
              "      <th>date</th>\n",
              "      <th>player_of_match</th>\n",
              "      <th>venue</th>\n",
              "      <th>neutral_venue</th>\n",
              "      <th>team1</th>\n",
              "      <th>team2</th>\n",
              "      <th>toss_winner</th>\n",
              "      <th>toss_decision</th>\n",
              "      <th>winner</th>\n",
              "      <th>result</th>\n",
              "      <th>result_margin</th>\n",
              "      <th>eliminator</th>\n",
              "      <th>umpire1</th>\n",
              "      <th>umpire2</th>\n",
              "    </tr>\n",
              "  </thead>\n",
              "  <tbody>\n",
              "    <tr>\n",
              "      <th>66</th>\n",
              "      <td>392190</td>\n",
              "      <td>Cape Town</td>\n",
              "      <td>2009-04-23</td>\n",
              "      <td>YK Pathan</td>\n",
              "      <td>Newlands</td>\n",
              "      <td>1</td>\n",
              "      <td>Kolkata Knight Riders</td>\n",
              "      <td>Rajasthan Royals</td>\n",
              "      <td>Kolkata Knight Riders</td>\n",
              "      <td>field</td>\n",
              "      <td>Rajasthan Royals</td>\n",
              "      <td>tie</td>\n",
              "      <td>NaN</td>\n",
              "      <td>Y</td>\n",
              "      <td>MR Benson</td>\n",
              "      <td>M Erasmus</td>\n",
              "    </tr>\n",
              "    <tr>\n",
              "      <th>130</th>\n",
              "      <td>419121</td>\n",
              "      <td>Chennai</td>\n",
              "      <td>2010-03-21</td>\n",
              "      <td>J Theron</td>\n",
              "      <td>MA Chidambaram Stadium, Chepauk</td>\n",
              "      <td>0</td>\n",
              "      <td>Chennai Super Kings</td>\n",
              "      <td>Kings XI Punjab</td>\n",
              "      <td>Chennai Super Kings</td>\n",
              "      <td>field</td>\n",
              "      <td>Kings XI Punjab</td>\n",
              "      <td>tie</td>\n",
              "      <td>NaN</td>\n",
              "      <td>Y</td>\n",
              "      <td>K Hariharan</td>\n",
              "      <td>DJ Harper</td>\n",
              "    </tr>\n",
              "    <tr>\n",
              "      <th>328</th>\n",
              "      <td>598004</td>\n",
              "      <td>Hyderabad</td>\n",
              "      <td>2013-04-07</td>\n",
              "      <td>GH Vihari</td>\n",
              "      <td>Rajiv Gandhi International Stadium, Uppal</td>\n",
              "      <td>0</td>\n",
              "      <td>Sunrisers Hyderabad</td>\n",
              "      <td>Royal Challengers Bangalore</td>\n",
              "      <td>Royal Challengers Bangalore</td>\n",
              "      <td>bat</td>\n",
              "      <td>Sunrisers Hyderabad</td>\n",
              "      <td>tie</td>\n",
              "      <td>NaN</td>\n",
              "      <td>Y</td>\n",
              "      <td>AK Chaudhary</td>\n",
              "      <td>S Ravi</td>\n",
              "    </tr>\n",
              "    <tr>\n",
              "      <th>341</th>\n",
              "      <td>598017</td>\n",
              "      <td>Bangalore</td>\n",
              "      <td>2013-04-16</td>\n",
              "      <td>V Kohli</td>\n",
              "      <td>M Chinnaswamy Stadium</td>\n",
              "      <td>0</td>\n",
              "      <td>Royal Challengers Bangalore</td>\n",
              "      <td>Delhi Daredevils</td>\n",
              "      <td>Royal Challengers Bangalore</td>\n",
              "      <td>field</td>\n",
              "      <td>Royal Challengers Bangalore</td>\n",
              "      <td>tie</td>\n",
              "      <td>NaN</td>\n",
              "      <td>Y</td>\n",
              "      <td>M Erasmus</td>\n",
              "      <td>VA Kulkarni</td>\n",
              "    </tr>\n",
              "    <tr>\n",
              "      <th>416</th>\n",
              "      <td>729315</td>\n",
              "      <td>Abu Dhabi</td>\n",
              "      <td>2014-04-29</td>\n",
              "      <td>JP Faulkner</td>\n",
              "      <td>Sheikh Zayed Stadium</td>\n",
              "      <td>1</td>\n",
              "      <td>Kolkata Knight Riders</td>\n",
              "      <td>Rajasthan Royals</td>\n",
              "      <td>Rajasthan Royals</td>\n",
              "      <td>bat</td>\n",
              "      <td>Rajasthan Royals</td>\n",
              "      <td>tie</td>\n",
              "      <td>NaN</td>\n",
              "      <td>Y</td>\n",
              "      <td>Aleem Dar</td>\n",
              "      <td>AK Chaudhary</td>\n",
              "    </tr>\n",
              "  </tbody>\n",
              "</table>\n",
              "</div>"
            ],
            "text/plain": [
              "         id       city        date  ... eliminator       umpire1       umpire2\n",
              "66   392190  Cape Town  2009-04-23  ...          Y     MR Benson     M Erasmus\n",
              "130  419121    Chennai  2010-03-21  ...          Y   K Hariharan     DJ Harper\n",
              "328  598004  Hyderabad  2013-04-07  ...          Y  AK Chaudhary        S Ravi\n",
              "341  598017  Bangalore  2013-04-16  ...          Y     M Erasmus   VA Kulkarni\n",
              "416  729315  Abu Dhabi  2014-04-29  ...          Y     Aleem Dar  AK Chaudhary\n",
              "\n",
              "[5 rows x 16 columns]"
            ]
          },
          "metadata": {},
          "execution_count": 16
        }
      ]
    },
    {
      "cell_type": "markdown",
      "metadata": {
        "id": "QVdIGxnWpCZb"
      },
      "source": [
        "After close inspection, we found that result_margin has nans in matches that were tied."
      ]
    },
    {
      "cell_type": "code",
      "metadata": {
        "id": "291cH8TWpC_h"
      },
      "source": [
        "matches.loc[matches.result == 'tie', 'result_margin'] = 0"
      ],
      "execution_count": null,
      "outputs": []
    },
    {
      "cell_type": "markdown",
      "metadata": {
        "id": "dY-5R8TopJ5f"
      },
      "source": [
        "Let's see if all the na values are taken care of..."
      ]
    },
    {
      "cell_type": "code",
      "metadata": {
        "colab": {
          "base_uri": "https://localhost:8080/"
        },
        "id": "VLY6T4LRpKbm",
        "outputId": "eed7951f-ae9a-4988-a194-6045971f05e5"
      },
      "source": [
        "match_na = matches.isna().sum()\n",
        "match_na[match_na > 0]"
      ],
      "execution_count": null,
      "outputs": [
        {
          "output_type": "execute_result",
          "data": {
            "text/plain": [
              "Series([], dtype: int64)"
            ]
          },
          "metadata": {},
          "execution_count": 18
        }
      ]
    },
    {
      "cell_type": "markdown",
      "metadata": {
        "id": "FocZMqyypQ2x"
      },
      "source": [
        "After inspecting the matches dataset, we found that the team 'Rising Pune Supergiant' is written as 'Rising Pune Supergiants'. Also, Delhi Daredevils and Delhi Capitals are the same team. Lets fix this."
      ]
    },
    {
      "cell_type": "code",
      "metadata": {
        "colab": {
          "base_uri": "https://localhost:8080/"
        },
        "id": "-GK_MdRPpRca",
        "outputId": "476c1dc2-ec60-4ee4-a916-44deee94120a"
      },
      "source": [
        "matches.winner.unique()"
      ],
      "execution_count": null,
      "outputs": [
        {
          "output_type": "execute_result",
          "data": {
            "text/plain": [
              "array(['Kolkata Knight Riders', 'Chennai Super Kings', 'Delhi Daredevils',\n",
              "       'Royal Challengers Bangalore', 'Rajasthan Royals',\n",
              "       'Kings XI Punjab', 'Deccan Chargers', 'Mumbai Indians',\n",
              "       'Pune Warriors', 'Kochi Tuskers Kerala', 'Sunrisers Hyderabad',\n",
              "       'Rising Pune Supergiants', 'Gujarat Lions',\n",
              "       'Rising Pune Supergiant', 'Delhi Capitals'], dtype=object)"
            ]
          },
          "metadata": {},
          "execution_count": 19
        }
      ]
    },
    {
      "cell_type": "code",
      "metadata": {
        "id": "v5D7lgJipU4_"
      },
      "source": [
        "matches.replace('Rising Pune Supergiants', 'Rising Pune Supergiant', inplace = True)"
      ],
      "execution_count": null,
      "outputs": []
    },
    {
      "cell_type": "code",
      "metadata": {
        "id": "oPxglq1BpXXp"
      },
      "source": [
        "matches.replace('Delhi Daredevils', 'Delhi Capitals', inplace = True)"
      ],
      "execution_count": null,
      "outputs": []
    },
    {
      "cell_type": "markdown",
      "metadata": {
        "id": "Hjbkgc0QpaX0"
      },
      "source": [
        "Deliveries"
      ]
    },
    {
      "cell_type": "code",
      "metadata": {
        "colab": {
          "base_uri": "https://localhost:8080/",
          "height": 395
        },
        "id": "fV5UsyfXpeUA",
        "outputId": "6a661cda-bbcc-4c81-89f8-33fa2013a381"
      },
      "source": [
        "deliveries = pd.read_csv('/IPL Ball-by-Ball 2008-2020.csv')\n",
        "deliveries.head()"
      ],
      "execution_count": null,
      "outputs": [
        {
          "output_type": "execute_result",
          "data": {
            "text/html": [
              "<div>\n",
              "<style scoped>\n",
              "    .dataframe tbody tr th:only-of-type {\n",
              "        vertical-align: middle;\n",
              "    }\n",
              "\n",
              "    .dataframe tbody tr th {\n",
              "        vertical-align: top;\n",
              "    }\n",
              "\n",
              "    .dataframe thead th {\n",
              "        text-align: right;\n",
              "    }\n",
              "</style>\n",
              "<table border=\"1\" class=\"dataframe\">\n",
              "  <thead>\n",
              "    <tr style=\"text-align: right;\">\n",
              "      <th></th>\n",
              "      <th>id</th>\n",
              "      <th>inning</th>\n",
              "      <th>over</th>\n",
              "      <th>ball</th>\n",
              "      <th>batsman</th>\n",
              "      <th>non_striker</th>\n",
              "      <th>bowler</th>\n",
              "      <th>batsman_runs</th>\n",
              "      <th>extra_runs</th>\n",
              "      <th>total_runs</th>\n",
              "      <th>non_boundary</th>\n",
              "      <th>is_wicket</th>\n",
              "      <th>dismissal_kind</th>\n",
              "      <th>player_dismissed</th>\n",
              "      <th>fielder</th>\n",
              "      <th>extras_type</th>\n",
              "      <th>batting_team</th>\n",
              "      <th>bowling_team</th>\n",
              "    </tr>\n",
              "  </thead>\n",
              "  <tbody>\n",
              "    <tr>\n",
              "      <th>0</th>\n",
              "      <td>335982</td>\n",
              "      <td>1</td>\n",
              "      <td>6</td>\n",
              "      <td>5</td>\n",
              "      <td>RT Ponting</td>\n",
              "      <td>BB McCullum</td>\n",
              "      <td>AA Noffke</td>\n",
              "      <td>1</td>\n",
              "      <td>0</td>\n",
              "      <td>1</td>\n",
              "      <td>0</td>\n",
              "      <td>0</td>\n",
              "      <td>NaN</td>\n",
              "      <td>NaN</td>\n",
              "      <td>NaN</td>\n",
              "      <td>NaN</td>\n",
              "      <td>Kolkata Knight Riders</td>\n",
              "      <td>Royal Challengers Bangalore</td>\n",
              "    </tr>\n",
              "    <tr>\n",
              "      <th>1</th>\n",
              "      <td>335982</td>\n",
              "      <td>1</td>\n",
              "      <td>6</td>\n",
              "      <td>6</td>\n",
              "      <td>BB McCullum</td>\n",
              "      <td>RT Ponting</td>\n",
              "      <td>AA Noffke</td>\n",
              "      <td>1</td>\n",
              "      <td>0</td>\n",
              "      <td>1</td>\n",
              "      <td>0</td>\n",
              "      <td>0</td>\n",
              "      <td>NaN</td>\n",
              "      <td>NaN</td>\n",
              "      <td>NaN</td>\n",
              "      <td>NaN</td>\n",
              "      <td>Kolkata Knight Riders</td>\n",
              "      <td>Royal Challengers Bangalore</td>\n",
              "    </tr>\n",
              "    <tr>\n",
              "      <th>2</th>\n",
              "      <td>335982</td>\n",
              "      <td>1</td>\n",
              "      <td>7</td>\n",
              "      <td>1</td>\n",
              "      <td>BB McCullum</td>\n",
              "      <td>RT Ponting</td>\n",
              "      <td>Z Khan</td>\n",
              "      <td>0</td>\n",
              "      <td>0</td>\n",
              "      <td>0</td>\n",
              "      <td>0</td>\n",
              "      <td>0</td>\n",
              "      <td>NaN</td>\n",
              "      <td>NaN</td>\n",
              "      <td>NaN</td>\n",
              "      <td>NaN</td>\n",
              "      <td>Kolkata Knight Riders</td>\n",
              "      <td>Royal Challengers Bangalore</td>\n",
              "    </tr>\n",
              "    <tr>\n",
              "      <th>3</th>\n",
              "      <td>335982</td>\n",
              "      <td>1</td>\n",
              "      <td>7</td>\n",
              "      <td>2</td>\n",
              "      <td>BB McCullum</td>\n",
              "      <td>RT Ponting</td>\n",
              "      <td>Z Khan</td>\n",
              "      <td>1</td>\n",
              "      <td>0</td>\n",
              "      <td>1</td>\n",
              "      <td>0</td>\n",
              "      <td>0</td>\n",
              "      <td>NaN</td>\n",
              "      <td>NaN</td>\n",
              "      <td>NaN</td>\n",
              "      <td>NaN</td>\n",
              "      <td>Kolkata Knight Riders</td>\n",
              "      <td>Royal Challengers Bangalore</td>\n",
              "    </tr>\n",
              "    <tr>\n",
              "      <th>4</th>\n",
              "      <td>335982</td>\n",
              "      <td>1</td>\n",
              "      <td>7</td>\n",
              "      <td>3</td>\n",
              "      <td>RT Ponting</td>\n",
              "      <td>BB McCullum</td>\n",
              "      <td>Z Khan</td>\n",
              "      <td>1</td>\n",
              "      <td>0</td>\n",
              "      <td>1</td>\n",
              "      <td>0</td>\n",
              "      <td>0</td>\n",
              "      <td>NaN</td>\n",
              "      <td>NaN</td>\n",
              "      <td>NaN</td>\n",
              "      <td>NaN</td>\n",
              "      <td>Kolkata Knight Riders</td>\n",
              "      <td>Royal Challengers Bangalore</td>\n",
              "    </tr>\n",
              "  </tbody>\n",
              "</table>\n",
              "</div>"
            ],
            "text/plain": [
              "       id  inning  ...           batting_team                 bowling_team\n",
              "0  335982       1  ...  Kolkata Knight Riders  Royal Challengers Bangalore\n",
              "1  335982       1  ...  Kolkata Knight Riders  Royal Challengers Bangalore\n",
              "2  335982       1  ...  Kolkata Knight Riders  Royal Challengers Bangalore\n",
              "3  335982       1  ...  Kolkata Knight Riders  Royal Challengers Bangalore\n",
              "4  335982       1  ...  Kolkata Knight Riders  Royal Challengers Bangalore\n",
              "\n",
              "[5 rows x 18 columns]"
            ]
          },
          "metadata": {},
          "execution_count": 25
        }
      ]
    },
    {
      "cell_type": "code",
      "metadata": {
        "colab": {
          "base_uri": "https://localhost:8080/"
        },
        "id": "HQiesWO8pgrq",
        "outputId": "10b89809-a006-468a-e763-13937e7e8140"
      },
      "source": [
        "deliveries.info()"
      ],
      "execution_count": null,
      "outputs": [
        {
          "output_type": "stream",
          "name": "stdout",
          "text": [
            "<class 'pandas.core.frame.DataFrame'>\n",
            "RangeIndex: 193468 entries, 0 to 193467\n",
            "Data columns (total 18 columns):\n",
            " #   Column            Non-Null Count   Dtype \n",
            "---  ------            --------------   ----- \n",
            " 0   id                193468 non-null  int64 \n",
            " 1   inning            193468 non-null  int64 \n",
            " 2   over              193468 non-null  int64 \n",
            " 3   ball              193468 non-null  int64 \n",
            " 4   batsman           193468 non-null  object\n",
            " 5   non_striker       193468 non-null  object\n",
            " 6   bowler            193468 non-null  object\n",
            " 7   batsman_runs      193468 non-null  int64 \n",
            " 8   extra_runs        193468 non-null  int64 \n",
            " 9   total_runs        193468 non-null  int64 \n",
            " 10  non_boundary      193468 non-null  int64 \n",
            " 11  is_wicket         193468 non-null  int64 \n",
            " 12  dismissal_kind    9495 non-null    object\n",
            " 13  player_dismissed  9495 non-null    object\n",
            " 14  fielder           6784 non-null    object\n",
            " 15  extras_type       10233 non-null   object\n",
            " 16  batting_team      193468 non-null  object\n",
            " 17  bowling_team      193277 non-null  object\n",
            "dtypes: int64(9), object(9)\n",
            "memory usage: 26.6+ MB\n"
          ]
        }
      ]
    },
    {
      "cell_type": "code",
      "metadata": {
        "colab": {
          "base_uri": "https://localhost:8080/"
        },
        "id": "nXyjPGpFr-pN",
        "outputId": "c6eef222-6a4b-4d61-db0b-c67f62a13a9e"
      },
      "source": [
        "deliveries['bowling_team'].unique()"
      ],
      "execution_count": null,
      "outputs": [
        {
          "output_type": "execute_result",
          "data": {
            "text/plain": [
              "array(['Royal Challengers Bangalore', 'Kolkata Knight Riders',\n",
              "       'Chennai Super Kings', 'Kings XI Punjab', 'Delhi Daredevils',\n",
              "       'Rajasthan Royals', 'Mumbai Indians', 'Deccan Chargers',\n",
              "       'Kochi Tuskers Kerala', 'Pune Warriors', nan,\n",
              "       'Sunrisers Hyderabad', 'Rising Pune Supergiants', 'Gujarat Lions',\n",
              "       'Rising Pune Supergiant', 'Delhi Capitals'], dtype=object)"
            ]
          },
          "metadata": {},
          "execution_count": 27
        }
      ]
    },
    {
      "cell_type": "markdown",
      "metadata": {
        "id": "dmGNi4N-sEd9"
      },
      "source": [
        "Let's fix the team names same as Matches."
      ]
    },
    {
      "cell_type": "code",
      "metadata": {
        "id": "lXvuXctOsFBN"
      },
      "source": [
        "deliveries.replace('Rising Pune Supergiants', 'Rising Pune Supergiant', inplace = True)"
      ],
      "execution_count": null,
      "outputs": []
    },
    {
      "cell_type": "code",
      "metadata": {
        "id": "6wTKeC4UsIWD"
      },
      "source": [
        "deliveries.replace('Delhi Daredevils', 'Delhi Capitals', inplace = True)"
      ],
      "execution_count": null,
      "outputs": []
    },
    {
      "cell_type": "markdown",
      "metadata": {
        "id": "pGIIcb98sPqC"
      },
      "source": [
        "Exploratory Data Analysis"
      ]
    },
    {
      "cell_type": "markdown",
      "metadata": {
        "id": "j4L6rTm-sTuW"
      },
      "source": [
        "How many matches are played each year in IPL?"
      ]
    },
    {
      "cell_type": "code",
      "metadata": {
        "colab": {
          "base_uri": "https://localhost:8080/"
        },
        "id": "0o0AUDXjsUPm",
        "outputId": "eee6dfae-e931-4926-8563-488d2d3c04de"
      },
      "source": [
        "matches[\"Year\"] = matches[\"date\"].apply(lambda x:x.split(\"-\")[0])\n",
        "matches['Year'].unique()"
      ],
      "execution_count": null,
      "outputs": [
        {
          "output_type": "execute_result",
          "data": {
            "text/plain": [
              "array(['2008', '2009', '2010', '2011', '2012', '2013', '2014', '2015',\n",
              "       '2016', '2017', '2018', '2019', '2020'], dtype=object)"
            ]
          },
          "metadata": {},
          "execution_count": 30
        }
      ]
    },
    {
      "cell_type": "code",
      "metadata": {
        "id": "qGWawjvfsXhM"
      },
      "source": [
        "match_count = matches['Year'].value_counts().sort_index()"
      ],
      "execution_count": null,
      "outputs": []
    },
    {
      "cell_type": "code",
      "metadata": {
        "colab": {
          "base_uri": "https://localhost:8080/",
          "height": 357
        },
        "id": "B9bd4IhGsad6",
        "outputId": "20c35f8a-a456-439d-8437-60811637f8da"
      },
      "source": [
        "sns.lineplot(x = match_count.index, y = match_count.values, )\n",
        "sns.despine()\n",
        "plt.ylabel('Number of matches')\n",
        "plt.xlabel('Years')\n",
        "plt.ylim((56, 79))\n",
        "_ = plt.title('Number of matches per Year')"
      ],
      "execution_count": null,
      "outputs": [
        {
          "output_type": "display_data",
          "data": {
            "image/png": "[encoded data removed]",
            "text/plain": [
              "<Figure size 936x360 with 1 Axes>"
            ]
          },
          "metadata": {
            "needs_background": "light"
          }
        }
      ]
    },
    {
      "cell_type": "markdown",
      "metadata": {
        "id": "WKnNE2ZKsgJ2"
      },
      "source": [
        "Year 2013 witnessed most matches throughout 2008 - 2020"
      ]
    },
    {
      "cell_type": "markdown",
      "metadata": {
        "id": "QA9yX6ZzsgUl"
      },
      "source": [
        "How many matches did the teams played throughout the IPL(2008-2020)?"
      ]
    },
    {
      "cell_type": "code",
      "metadata": {
        "colab": {
          "base_uri": "https://localhost:8080/"
        },
        "id": "Bh_jK0fRskxI",
        "outputId": "edcf1dd3-ec40-49cb-a911-ce913fc11ae7"
      },
      "source": [
        "# Total matches played by a team\n",
        "partial_count1 = matches['team1'].value_counts()\n",
        "partial_count2 = matches['team2'].value_counts()\n",
        "total_matches = np.add(partial_count1, partial_count2).sort_values(ascending = False)\n",
        "total_matches.head()"
      ],
      "execution_count": null,
      "outputs": [
        {
          "output_type": "execute_result",
          "data": {
            "text/plain": [
              "Mumbai Indians                 203\n",
              "Royal Challengers Bangalore    192\n",
              "Kolkata Knight Riders          192\n",
              "Delhi Capitals                 192\n",
              "Kings XI Punjab                190\n",
              "dtype: int64"
            ]
          },
          "metadata": {},
          "execution_count": 33
        }
      ]
    },
    {
      "cell_type": "code",
      "metadata": {
        "colab": {
          "base_uri": "https://localhost:8080/",
          "height": 465
        },
        "id": "RcXWNxzIsnFe",
        "outputId": "d11c5650-2fbb-4d61-9bd5-9a70cfd5071e"
      },
      "source": [
        "sns.barplot(x = total_matches.index, y = total_matches.values)\n",
        "sns.despine()\n",
        "_ = plt.xticks(rotation = 40)\n",
        "plt.title('Number of Matches played')\n",
        "_ = plt.xlabel('Teams')"
      ],
      "execution_count": null,
      "outputs": [
        {
          "output_type": "display_data",
          "data": {
            "image/png": "[encoded data removed]",
            "text/plain": [
              "<Figure size 936x360 with 1 Axes>"
            ]
          },
          "metadata": {
            "needs_background": "light"
          }
        }
      ]
    },
    {
      "cell_type": "markdown",
      "metadata": {
        "id": "7-ZuqU9KsqUu"
      },
      "source": [
        "Does winning the toss affects the outcome of a match for a team?"
      ]
    },
    {
      "cell_type": "code",
      "metadata": {
        "colab": {
          "base_uri": "https://localhost:8080/"
        },
        "id": "PKdlpYWAsueu",
        "outputId": "4d0314b1-afb3-4220-8f5a-f31dcb1c1782"
      },
      "source": [
        "toss_match_wins = matches.loc[(matches['toss_winner'] == matches['winner']), 'toss_winner'].value_counts()\n",
        "toss_match_wins.head()"
      ],
      "execution_count": null,
      "outputs": [
        {
          "output_type": "execute_result",
          "data": {
            "text/plain": [
              "Chennai Super Kings      61\n",
              "Mumbai Indians           61\n",
              "Kolkata Knight Riders    55\n",
              "Delhi Capitals           45\n",
              "Rajasthan Royals         44\n",
              "Name: toss_winner, dtype: int64"
            ]
          },
          "metadata": {},
          "execution_count": 35
        }
      ]
    },
    {
      "cell_type": "code",
      "metadata": {
        "id": "OWGEJFTGsw_F"
      },
      "source": [
        "win_per_after_toss = np.divide(toss_match_wins, total_matches)*100"
      ],
      "execution_count": null,
      "outputs": []
    },
    {
      "cell_type": "code",
      "metadata": {
        "colab": {
          "base_uri": "https://localhost:8080/",
          "height": 442
        },
        "id": "w_wovs_uszsD",
        "outputId": "32e0010d-1c5e-4575-bd67-31fdf7d03eb9"
      },
      "source": [
        "sns.barplot(x = win_per_after_toss.index, y = win_per_after_toss.values, )\n",
        "sns.despine()\n",
        "_ = plt.xticks(rotation = 30)\n",
        "plt.title('Win % of Teams that won Toss')\n",
        "_ = plt.xlabel('Teams')"
      ],
      "execution_count": null,
      "outputs": [
        {
          "output_type": "display_data",
          "data": {
            "image/png": "[encoded data removed]",
            "text/plain": [
              "<Figure size 936x360 with 1 Axes>"
            ]
          },
          "metadata": {
            "needs_background": "light"
          }
        }
      ]
    },
    {
      "cell_type": "markdown",
      "metadata": {
        "id": "ERJ6RyZrs5Wb"
      },
      "source": [
        "All the percentages are below 50%, hence there isn't any evidence that suggests that winning the toss would increase the chances of winning the match."
      ]
    },
    {
      "cell_type": "markdown",
      "metadata": {
        "id": "8EKF6nuPs5gc"
      },
      "source": [
        "Here I just want to see what would be the chances for a certain team to win a match if it wins the toss."
      ]
    },
    {
      "cell_type": "code",
      "metadata": {
        "colab": {
          "base_uri": "https://localhost:8080/"
        },
        "id": "CIR8zp-Bs9PC",
        "outputId": "8abc6c2b-769f-4756-c6f7-d168abef7ad8"
      },
      "source": [
        "# When Teams won the toss as well as the match\n",
        "match_win = matches.loc[matches['winner'] == matches['toss_winner'], 'toss_winner'].value_counts()\n",
        "\n",
        "# Won toss but lost match = Total times teams won toss - WON both toss and match \n",
        "match_lose = matches['toss_winner'].value_counts() - match_win\n",
        "match_lose"
      ],
      "execution_count": null,
      "outputs": [
        {
          "output_type": "execute_result",
          "data": {
            "text/plain": [
              "Chennai Super Kings            36\n",
              "Deccan Chargers                24\n",
              "Delhi Capitals                 54\n",
              "Gujarat Lions                   5\n",
              "Kings XI Punjab                49\n",
              "Kochi Tuskers Kerala            4\n",
              "Kolkata Knight Riders          43\n",
              "Mumbai Indians                 45\n",
              "Pune Warriors                  17\n",
              "Rajasthan Royals               41\n",
              "Rising Pune Supergiant          5\n",
              "Royal Challengers Bangalore    43\n",
              "Sunrisers Hyderabad            28\n",
              "Name: toss_winner, dtype: int64"
            ]
          },
          "metadata": {},
          "execution_count": 38
        }
      ]
    },
    {
      "cell_type": "code",
      "metadata": {
        "id": "NTi9QjRys_xT"
      },
      "source": [
        "ticks = ['CSK', 'DC', 'DelhiC', 'GL', 'KXIP', 'KTK', 'KKR', 'MI', 'PW', 'RR', 'RPS', 'RCB', 'SRH']\n",
        "match_win.sort_index(inplace = True)\n",
        "match_lose.sort_index(inplace = True)\n",
        "x = np.arange(len(ticks))\n",
        "width = 0.4"
      ],
      "execution_count": null,
      "outputs": []
    },
    {
      "cell_type": "code",
      "metadata": {
        "colab": {
          "base_uri": "https://localhost:8080/",
          "height": 340
        },
        "id": "mkpuAABctCd7",
        "outputId": "0291ee91-fd45-4604-de6a-05e0a7ddd10a"
      },
      "source": [
        "plt.bar(x = x-0.2, height = match_win.values, width = width, label = 'Won', color = 'darkblue')\n",
        "plt.bar(x = x+0.2, height = match_lose.values, width = width, label = 'Lose', color = 'orange')\n",
        "plt.xticks(x, ticks)\n",
        "plt.legend()\n",
        "_ = plt.title('toss')"
      ],
      "execution_count": null,
      "outputs": [
        {
          "output_type": "display_data",
          "data": {
            "image/png": "[encoded data removed]",
            "text/plain": [
              "<Figure size 936x360 with 1 Axes>"
            ]
          },
          "metadata": {
            "needs_background": "light"
          }
        }
      ]
    },
    {
      "cell_type": "markdown",
      "metadata": {
        "id": "a2vJ66sUtFP_"
      },
      "source": [
        "We can see that there are teams that have actually lost more matches than they have won after winning the toss."
      ]
    },
    {
      "cell_type": "markdown",
      "metadata": {
        "id": "i7s48Ng0tFZM"
      },
      "source": [
        "Which team has the highest win percentage?"
      ]
    },
    {
      "cell_type": "code",
      "metadata": {
        "colab": {
          "base_uri": "https://localhost:8080/"
        },
        "id": "S0kBtWbktLq8",
        "outputId": "70bb2378-e8f2-46fc-f470-14c7f2f62550"
      },
      "source": [
        "winner_counts = matches['winner'].value_counts()\n",
        "win_per = np.round(np.divide(winner_counts, total_matches)*100).sort_values(ascending = False)\n",
        "win_per.head()"
      ],
      "execution_count": null,
      "outputs": [
        {
          "output_type": "execute_result",
          "data": {
            "text/plain": [
              "Chennai Super Kings      60.0\n",
              "Mumbai Indians           59.0\n",
              "Sunrisers Hyderabad      53.0\n",
              "Kolkata Knight Riders    52.0\n",
              "Rajasthan Royals         51.0\n",
              "dtype: float64"
            ]
          },
          "metadata": {},
          "execution_count": 41
        }
      ]
    },
    {
      "cell_type": "code",
      "metadata": {
        "colab": {
          "base_uri": "https://localhost:8080/",
          "height": 465
        },
        "id": "ErLVchPstO62",
        "outputId": "892b8846-9920-4b81-e3bf-d36f98683a52"
      },
      "source": [
        "sns.barplot(x = win_per.index, y = win_per.values,)\n",
        "sns.despine()\n",
        "_ = plt.xticks(rotation = 40)\n",
        "plt.title('Team Wins %')\n",
        "_ = plt.xlabel('Teams')"
      ],
      "execution_count": null,
      "outputs": [
        {
          "output_type": "display_data",
          "data": {
            "image/png": "[encoded data removed]",
            "text/plain": [
              "<Figure size 936x360 with 1 Axes>"
            ]
          },
          "metadata": {
            "needs_background": "light"
          }
        }
      ]
    },
    {
      "cell_type": "markdown",
      "metadata": {
        "id": "jhcxx4I1tRzs"
      },
      "source": [
        "Chennai Super Kings has the highest win percentage of 60% among the all the teams."
      ]
    },
    {
      "cell_type": "markdown",
      "metadata": {
        "id": "c2lCfNAGtR72"
      },
      "source": [
        "Which batsman hit the most number of sixes?"
      ]
    },
    {
      "cell_type": "code",
      "metadata": {
        "colab": {
          "base_uri": "https://localhost:8080/",
          "height": 236
        },
        "id": "KdUU0kIDtYQ5",
        "outputId": "28184a9b-15dd-466b-d799-75a19c39a97c"
      },
      "source": [
        "batsman_sixes = deliveries[deliveries['batsman_runs'] == 6].groupby(by = ['batsman']).agg(sixes=pd.NamedAgg(column=\"batsman_runs\", aggfunc=\"value_counts\")).nlargest(n = 10, columns = 'sixes').droplevel('batsman_runs')\n",
        "batsman_sixes.head()"
      ],
      "execution_count": null,
      "outputs": [
        {
          "output_type": "execute_result",
          "data": {
            "text/html": [
              "<div>\n",
              "<style scoped>\n",
              "    .dataframe tbody tr th:only-of-type {\n",
              "        vertical-align: middle;\n",
              "    }\n",
              "\n",
              "    .dataframe tbody tr th {\n",
              "        vertical-align: top;\n",
              "    }\n",
              "\n",
              "    .dataframe thead th {\n",
              "        text-align: right;\n",
              "    }\n",
              "</style>\n",
              "<table border=\"1\" class=\"dataframe\">\n",
              "  <thead>\n",
              "    <tr style=\"text-align: right;\">\n",
              "      <th></th>\n",
              "      <th>sixes</th>\n",
              "    </tr>\n",
              "    <tr>\n",
              "      <th>batsman</th>\n",
              "      <th></th>\n",
              "    </tr>\n",
              "  </thead>\n",
              "  <tbody>\n",
              "    <tr>\n",
              "      <th>CH Gayle</th>\n",
              "      <td>349</td>\n",
              "    </tr>\n",
              "    <tr>\n",
              "      <th>AB de Villiers</th>\n",
              "      <td>235</td>\n",
              "    </tr>\n",
              "    <tr>\n",
              "      <th>MS Dhoni</th>\n",
              "      <td>216</td>\n",
              "    </tr>\n",
              "    <tr>\n",
              "      <th>RG Sharma</th>\n",
              "      <td>214</td>\n",
              "    </tr>\n",
              "    <tr>\n",
              "      <th>V Kohli</th>\n",
              "      <td>202</td>\n",
              "    </tr>\n",
              "  </tbody>\n",
              "</table>\n",
              "</div>"
            ],
            "text/plain": [
              "                sixes\n",
              "batsman              \n",
              "CH Gayle          349\n",
              "AB de Villiers    235\n",
              "MS Dhoni          216\n",
              "RG Sharma         214\n",
              "V Kohli           202"
            ]
          },
          "metadata": {},
          "execution_count": 43
        }
      ]
    },
    {
      "cell_type": "code",
      "metadata": {
        "colab": {
          "base_uri": "https://localhost:8080/",
          "height": 357
        },
        "id": "4thsLRSQtacY",
        "outputId": "3e07d27f-8405-40f5-e078-80616a7ca8eb"
      },
      "source": [
        "sns.barplot(x = batsman_sixes.index, y = batsman_sixes.sixes)\n",
        "sns.despine()\n",
        "plt.title('Top 10 Batsmen - Highest number of 6s hit')\n",
        "_ = plt.xlabel('Batsmen')"
      ],
      "execution_count": null,
      "outputs": [
        {
          "output_type": "display_data",
          "data": {
            "image/png": "[encoded data removed]",
            "text/plain": [
              "<Figure size 936x360 with 1 Axes>"
            ]
          },
          "metadata": {
            "needs_background": "light"
          }
        }
      ]
    },
    {
      "cell_type": "markdown",
      "metadata": {
        "id": "G7vd4cxKtdLv"
      },
      "source": [
        "Chris Gayle hit the highest number of sixes during the IPL."
      ]
    },
    {
      "cell_type": "markdown",
      "metadata": {
        "id": "sg65O7agtdUG"
      },
      "source": [
        "Which batsman hit the most number of 4s?"
      ]
    },
    {
      "cell_type": "code",
      "metadata": {
        "colab": {
          "base_uri": "https://localhost:8080/",
          "height": 236
        },
        "id": "QwkaQKGitkwZ",
        "outputId": "efa6daf5-243c-49cd-fa78-6dda8ce0238e"
      },
      "source": [
        "batsman_4s = deliveries[deliveries['batsman_runs'] == 4].groupby(by = ['batsman']).agg(fours=pd.NamedAgg(column=\"batsman_runs\", aggfunc=\"value_counts\")).nlargest(n = 10, columns = 'fours').droplevel('batsman_runs')\n",
        "batsman_4s.head()"
      ],
      "execution_count": null,
      "outputs": [
        {
          "output_type": "execute_result",
          "data": {
            "text/html": [
              "<div>\n",
              "<style scoped>\n",
              "    .dataframe tbody tr th:only-of-type {\n",
              "        vertical-align: middle;\n",
              "    }\n",
              "\n",
              "    .dataframe tbody tr th {\n",
              "        vertical-align: top;\n",
              "    }\n",
              "\n",
              "    .dataframe thead th {\n",
              "        text-align: right;\n",
              "    }\n",
              "</style>\n",
              "<table border=\"1\" class=\"dataframe\">\n",
              "  <thead>\n",
              "    <tr style=\"text-align: right;\">\n",
              "      <th></th>\n",
              "      <th>fours</th>\n",
              "    </tr>\n",
              "    <tr>\n",
              "      <th>batsman</th>\n",
              "      <th></th>\n",
              "    </tr>\n",
              "  </thead>\n",
              "  <tbody>\n",
              "    <tr>\n",
              "      <th>S Dhawan</th>\n",
              "      <td>591</td>\n",
              "    </tr>\n",
              "    <tr>\n",
              "      <th>DA Warner</th>\n",
              "      <td>510</td>\n",
              "    </tr>\n",
              "    <tr>\n",
              "      <th>V Kohli</th>\n",
              "      <td>504</td>\n",
              "    </tr>\n",
              "    <tr>\n",
              "      <th>SK Raina</th>\n",
              "      <td>493</td>\n",
              "    </tr>\n",
              "    <tr>\n",
              "      <th>G Gambhir</th>\n",
              "      <td>492</td>\n",
              "    </tr>\n",
              "  </tbody>\n",
              "</table>\n",
              "</div>"
            ],
            "text/plain": [
              "           fours\n",
              "batsman         \n",
              "S Dhawan     591\n",
              "DA Warner    510\n",
              "V Kohli      504\n",
              "SK Raina     493\n",
              "G Gambhir    492"
            ]
          },
          "metadata": {},
          "execution_count": 45
        }
      ]
    },
    {
      "cell_type": "code",
      "metadata": {
        "colab": {
          "base_uri": "https://localhost:8080/",
          "height": 357
        },
        "id": "TCI-v24XtnCo",
        "outputId": "306605ab-6cd3-4163-b4a8-e2380cc77630"
      },
      "source": [
        "sns.barplot(x = batsman_4s.index, y = batsman_4s.fours, )\n",
        "sns.despine()\n",
        "plt.title('Top 10 Batsmen - Highest number of 4s hit')\n",
        "_ = plt.xlabel('Batsmen')"
      ],
      "execution_count": null,
      "outputs": [
        {
          "output_type": "display_data",
          "data": {
            "image/png": "[encoded data removed]",
            "text/plain": [
              "<Figure size 936x360 with 1 Axes>"
            ]
          },
          "metadata": {
            "needs_background": "light"
          }
        }
      ]
    },
    {
      "cell_type": "markdown",
      "metadata": {
        "id": "jSrqMV-5tq7Z"
      },
      "source": [
        "Shikhar Dhavan hit the most number of 4s."
      ]
    },
    {
      "cell_type": "markdown",
      "metadata": {
        "id": "92F3XqUUtrDj"
      },
      "source": [
        "Which bowler gave the most number of 6s?\n",
        "\n"
      ]
    },
    {
      "cell_type": "code",
      "metadata": {
        "colab": {
          "base_uri": "https://localhost:8080/",
          "height": 236
        },
        "id": "Qj5Y7FB7uCDb",
        "outputId": "80457441-0b64-44aa-ea5c-70b11bb3c7e4"
      },
      "source": [
        "bowler_6s = deliveries[deliveries['batsman_runs'] == 6].groupby(by = ['bowler']).agg(sixes=pd.NamedAgg(column=\"batsman_runs\", aggfunc=\"value_counts\")).nlargest(n = 10, columns = 'sixes').droplevel('batsman_runs')\n",
        "bowler_6s.head()"
      ],
      "execution_count": null,
      "outputs": [
        {
          "output_type": "execute_result",
          "data": {
            "text/html": [
              "<div>\n",
              "<style scoped>\n",
              "    .dataframe tbody tr th:only-of-type {\n",
              "        vertical-align: middle;\n",
              "    }\n",
              "\n",
              "    .dataframe tbody tr th {\n",
              "        vertical-align: top;\n",
              "    }\n",
              "\n",
              "    .dataframe thead th {\n",
              "        text-align: right;\n",
              "    }\n",
              "</style>\n",
              "<table border=\"1\" class=\"dataframe\">\n",
              "  <thead>\n",
              "    <tr style=\"text-align: right;\">\n",
              "      <th></th>\n",
              "      <th>sixes</th>\n",
              "    </tr>\n",
              "    <tr>\n",
              "      <th>bowler</th>\n",
              "      <th></th>\n",
              "    </tr>\n",
              "  </thead>\n",
              "  <tbody>\n",
              "    <tr>\n",
              "      <th>PP Chawla</th>\n",
              "      <td>181</td>\n",
              "    </tr>\n",
              "    <tr>\n",
              "      <th>A Mishra</th>\n",
              "      <td>172</td>\n",
              "    </tr>\n",
              "    <tr>\n",
              "      <th>RA Jadeja</th>\n",
              "      <td>148</td>\n",
              "    </tr>\n",
              "    <tr>\n",
              "      <th>Harbhajan Singh</th>\n",
              "      <td>142</td>\n",
              "    </tr>\n",
              "    <tr>\n",
              "      <th>DJ Bravo</th>\n",
              "      <td>138</td>\n",
              "    </tr>\n",
              "  </tbody>\n",
              "</table>\n",
              "</div>"
            ],
            "text/plain": [
              "                 sixes\n",
              "bowler                \n",
              "PP Chawla          181\n",
              "A Mishra           172\n",
              "RA Jadeja          148\n",
              "Harbhajan Singh    142\n",
              "DJ Bravo           138"
            ]
          },
          "metadata": {},
          "execution_count": 47
        }
      ]
    },
    {
      "cell_type": "code",
      "metadata": {
        "colab": {
          "base_uri": "https://localhost:8080/",
          "height": 357
        },
        "id": "I0k9oqd6uEYi",
        "outputId": "4a3d0268-0e7e-4295-e07d-b1f817e7661f"
      },
      "source": [
        "plt.figure(figsize = ( 13, 5 ))\n",
        "sns.barplot(x = bowler_6s.index, y = bowler_6s.sixes, )\n",
        "sns.despine()\n",
        "plt.title('Top 10 Bwlers - Highest number of 6s given')\n",
        "_ = plt.xlabel('Bowlers')"
      ],
      "execution_count": null,
      "outputs": [
        {
          "output_type": "display_data",
          "data": {
            "image/png": "[encoded data removed]",
            "text/plain": [
              "<Figure size 936x360 with 1 Axes>"
            ]
          },
          "metadata": {
            "needs_background": "light"
          }
        }
      ]
    },
    {
      "cell_type": "markdown",
      "metadata": {
        "id": "RTpHnHpbuHNm"
      },
      "source": [
        "Batsmen hit most number of 6s against PP Chawla"
      ]
    },
    {
      "cell_type": "markdown",
      "metadata": {
        "id": "8IN6zIHxuHVb"
      },
      "source": [
        "Which bowler gave the most number of 4s?"
      ]
    },
    {
      "cell_type": "code",
      "metadata": {
        "id": "IsnFYssbuN17"
      },
      "source": [
        "bowler_4s = deliveries[deliveries['batsman_runs'] == 4].groupby(by = ['bowler']).agg(fours=pd.NamedAgg(column=\"batsman_runs\", aggfunc=\"value_counts\")).nlargest(n = 10, columns = 'fours').droplevel(1)"
      ],
      "execution_count": null,
      "outputs": []
    },
    {
      "cell_type": "code",
      "metadata": {
        "colab": {
          "base_uri": "https://localhost:8080/",
          "height": 357
        },
        "id": "dv7C1Jb-uQeQ",
        "outputId": "253a38e2-164c-4436-d643-34070741f91a"
      },
      "source": [
        "sns.barplot(x = bowler_4s.index, y = bowler_4s.fours, )\n",
        "sns.despine()\n",
        "plt.title('Top 10 Bowers - Highest number of 4s given')\n",
        "_ = plt.xlabel('Bowlers')"
      ],
      "execution_count": null,
      "outputs": [
        {
          "output_type": "display_data",
          "data": {
            "image/png": "[encoded data removed]",
            "text/plain": [
              "<Figure size 936x360 with 1 Axes>"
            ]
          },
          "metadata": {
            "needs_background": "light"
          }
        }
      ]
    },
    {
      "cell_type": "markdown",
      "metadata": {
        "id": "DBU5ggQbuVp2"
      },
      "source": [
        "Batsmen hit most number of 4s against UT Yadav"
      ]
    },
    {
      "cell_type": "markdown",
      "metadata": {
        "id": "1GnHquLguVyS"
      },
      "source": [
        "I have always wondered whether the teams batting in Inning1 has more advantage over their rival teams.\n",
        "Which teams are more likely to win ?"
      ]
    },
    {
      "cell_type": "code",
      "metadata": {
        "colab": {
          "base_uri": "https://localhost:8080/",
          "height": 236
        },
        "id": "bqfOXCDxuavl",
        "outputId": "99f920f2-c4b9-430f-cfea-b039c3744731"
      },
      "source": [
        "total_runs_inning = deliveries.groupby(by =['id', 'inning']).agg({'total_runs':'sum'}).reset_index()\n",
        "winners_ = pd.pivot_table(data = total_runs_inning, columns = 'inning', index = 'id', values = 'total_runs')\n",
        "winners_['won'] = np.where(winners_[1]>winners_[2], 'Innings 1', 'Innings 2')\n",
        "winners_['won'] = np.where(winners_[1]==winners_[2], 'draw', winners_['won'])\n",
        "winners_.head()"
      ],
      "execution_count": null,
      "outputs": [
        {
          "output_type": "execute_result",
          "data": {
            "text/html": [
              "<div>\n",
              "<style scoped>\n",
              "    .dataframe tbody tr th:only-of-type {\n",
              "        vertical-align: middle;\n",
              "    }\n",
              "\n",
              "    .dataframe tbody tr th {\n",
              "        vertical-align: top;\n",
              "    }\n",
              "\n",
              "    .dataframe thead th {\n",
              "        text-align: right;\n",
              "    }\n",
              "</style>\n",
              "<table border=\"1\" class=\"dataframe\">\n",
              "  <thead>\n",
              "    <tr style=\"text-align: right;\">\n",
              "      <th>inning</th>\n",
              "      <th>1</th>\n",
              "      <th>2</th>\n",
              "      <th>won</th>\n",
              "    </tr>\n",
              "    <tr>\n",
              "      <th>id</th>\n",
              "      <th></th>\n",
              "      <th></th>\n",
              "      <th></th>\n",
              "    </tr>\n",
              "  </thead>\n",
              "  <tbody>\n",
              "    <tr>\n",
              "      <th>335982</th>\n",
              "      <td>222.0</td>\n",
              "      <td>82.0</td>\n",
              "      <td>Innings 1</td>\n",
              "    </tr>\n",
              "    <tr>\n",
              "      <th>335983</th>\n",
              "      <td>240.0</td>\n",
              "      <td>207.0</td>\n",
              "      <td>Innings 1</td>\n",
              "    </tr>\n",
              "    <tr>\n",
              "      <th>335984</th>\n",
              "      <td>129.0</td>\n",
              "      <td>132.0</td>\n",
              "      <td>Innings 2</td>\n",
              "    </tr>\n",
              "    <tr>\n",
              "      <th>335985</th>\n",
              "      <td>165.0</td>\n",
              "      <td>166.0</td>\n",
              "      <td>Innings 2</td>\n",
              "    </tr>\n",
              "    <tr>\n",
              "      <th>335986</th>\n",
              "      <td>110.0</td>\n",
              "      <td>112.0</td>\n",
              "      <td>Innings 2</td>\n",
              "    </tr>\n",
              "  </tbody>\n",
              "</table>\n",
              "</div>"
            ],
            "text/plain": [
              "inning      1      2        won\n",
              "id                             \n",
              "335982  222.0   82.0  Innings 1\n",
              "335983  240.0  207.0  Innings 1\n",
              "335984  129.0  132.0  Innings 2\n",
              "335985  165.0  166.0  Innings 2\n",
              "335986  110.0  112.0  Innings 2"
            ]
          },
          "metadata": {},
          "execution_count": 51
        }
      ]
    },
    {
      "cell_type": "code",
      "metadata": {
        "colab": {
          "base_uri": "https://localhost:8080/",
          "height": 383
        },
        "id": "yYR38cNgudBA",
        "outputId": "9a8ec8be-4aa8-47ae-8bf8-d5ae89431cc9"
      },
      "source": [
        "sns.catplot(x=\"won\", kind=\"count\", data=winners_)"
      ],
      "execution_count": null,
      "outputs": [
        {
          "output_type": "execute_result",
          "data": {
            "text/plain": [
              "<seaborn.axisgrid.FacetGrid at 0x7fbb523c2510>"
            ]
          },
          "metadata": {},
          "execution_count": 52
        },
        {
          "output_type": "display_data",
          "data": {
            "image/png": "[encoded data removed]",
            "text/plain": [
              "<Figure size 360x360 with 1 Axes>"
            ]
          },
          "metadata": {
            "needs_background": "light"
          }
        }
      ]
    },
    {
      "cell_type": "markdown",
      "metadata": {
        "id": "5f8N28BvuiPb"
      },
      "source": [
        "We can see that the teams playing in the second innings have a slightly better chance at winning. So getting to bat first may not always be the correct alernative."
      ]
    },
    {
      "cell_type": "markdown",
      "metadata": {
        "id": "ksPGkj9tuiY-"
      },
      "source": [
        "Which player was awarded the Player of the Match most number of times?"
      ]
    },
    {
      "cell_type": "code",
      "metadata": {
        "colab": {
          "base_uri": "https://localhost:8080/",
          "height": 340
        },
        "id": "zJJV4ZCAumDB",
        "outputId": "ccf16220-c044-49dc-a3d1-7a60969e5179"
      },
      "source": [
        "pom = matches['player_of_match'].value_counts().sort_values(ascending=False).iloc[:10]\n",
        "sns.barplot(x=pom.index,  y = pom.values, data=matches)\n",
        "sns.despine()\n",
        "_ = plt.title('Player of the match')"
      ],
      "execution_count": null,
      "outputs": [
        {
          "output_type": "display_data",
          "data": {
            "image/png": "[encoded data removed]",
            "text/plain": [
              "<Figure size 936x360 with 1 Axes>"
            ]
          },
          "metadata": {
            "needs_background": "light"
          }
        }
      ]
    },
    {
      "cell_type": "markdown",
      "metadata": {
        "id": "o7GdL9wNusjX"
      },
      "source": [
        "AB de Villiers was awarded Player of the match most number of times."
      ]
    },
    {
      "cell_type": "markdown",
      "metadata": {
        "id": "PLZm4C_-u7ay"
      },
      "source": [
        "Let's move on to some Player Statistics."
      ]
    },
    {
      "cell_type": "markdown",
      "metadata": {
        "id": "M0c9F0ufuzjt"
      },
      "source": [
        "Let's count the Centuries scored by each batsmen in each match. Also, we would like to have other information on our batsmen say, Strike rate, total runs scored and balls faced.\n",
        "\n"
      ]
    },
    {
      "cell_type": "code",
      "metadata": {
        "id": "E_2ek4hWvAWf"
      },
      "source": [
        "runs = deliveries.groupby(by =['batsman', 'id']).agg({'batsman_runs':'sum'})\n",
        "centuries = runs['batsman_runs'].apply(lambda x: (x // 100)).sum(level = 0)"
      ],
      "execution_count": null,
      "outputs": []
    },
    {
      "cell_type": "markdown",
      "metadata": {
        "id": "Oqj4gIAFvKEg"
      },
      "source": [
        "Wides and noballs are not counted in batsman's record as well as any runs scored on an extras_type ball. So in order to account for that we are not considering wides, noballs, penalty."
      ]
    },
    {
      "cell_type": "code",
      "metadata": {
        "id": "rOrwZEaxvKv5"
      },
      "source": [
        "k = deliveries[~(deliveries['extras_type'].isin(['wides', 'noballs', 'penalty']))]"
      ],
      "execution_count": null,
      "outputs": []
    },
    {
      "cell_type": "code",
      "metadata": {
        "colab": {
          "base_uri": "https://localhost:8080/",
          "height": 236
        },
        "id": "qKRlllTDvNxd",
        "outputId": "6b635d2a-5523-457d-f047-1512fe1ea3f9"
      },
      "source": [
        "batsman_stats = k.groupby(by =['batsman']).agg({'batsman_runs':'sum', 'ball': 'count'})\n",
        "batsman_stats['Strike_rate'] = 100*batsman_stats['batsman_runs']/batsman_stats['ball']\n",
        "batsman_stats['Centuries'] = centuries\n",
        "batsman_stats.head()"
      ],
      "execution_count": null,
      "outputs": [
        {
          "output_type": "execute_result",
          "data": {
            "text/html": [
              "<div>\n",
              "<style scoped>\n",
              "    .dataframe tbody tr th:only-of-type {\n",
              "        vertical-align: middle;\n",
              "    }\n",
              "\n",
              "    .dataframe tbody tr th {\n",
              "        vertical-align: top;\n",
              "    }\n",
              "\n",
              "    .dataframe thead th {\n",
              "        text-align: right;\n",
              "    }\n",
              "</style>\n",
              "<table border=\"1\" class=\"dataframe\">\n",
              "  <thead>\n",
              "    <tr style=\"text-align: right;\">\n",
              "      <th></th>\n",
              "      <th>batsman_runs</th>\n",
              "      <th>ball</th>\n",
              "      <th>Strike_rate</th>\n",
              "      <th>Centuries</th>\n",
              "    </tr>\n",
              "    <tr>\n",
              "      <th>batsman</th>\n",
              "      <th></th>\n",
              "      <th></th>\n",
              "      <th></th>\n",
              "      <th></th>\n",
              "    </tr>\n",
              "  </thead>\n",
              "  <tbody>\n",
              "    <tr>\n",
              "      <th>A Ashish Reddy</th>\n",
              "      <td>280</td>\n",
              "      <td>193</td>\n",
              "      <td>145.077720</td>\n",
              "      <td>0</td>\n",
              "    </tr>\n",
              "    <tr>\n",
              "      <th>A Chandila</th>\n",
              "      <td>4</td>\n",
              "      <td>7</td>\n",
              "      <td>57.142857</td>\n",
              "      <td>0</td>\n",
              "    </tr>\n",
              "    <tr>\n",
              "      <th>A Chopra</th>\n",
              "      <td>53</td>\n",
              "      <td>71</td>\n",
              "      <td>74.647887</td>\n",
              "      <td>0</td>\n",
              "    </tr>\n",
              "    <tr>\n",
              "      <th>A Choudhary</th>\n",
              "      <td>25</td>\n",
              "      <td>20</td>\n",
              "      <td>125.000000</td>\n",
              "      <td>0</td>\n",
              "    </tr>\n",
              "    <tr>\n",
              "      <th>A Dananjaya</th>\n",
              "      <td>4</td>\n",
              "      <td>5</td>\n",
              "      <td>80.000000</td>\n",
              "      <td>0</td>\n",
              "    </tr>\n",
              "  </tbody>\n",
              "</table>\n",
              "</div>"
            ],
            "text/plain": [
              "                batsman_runs  ball  Strike_rate  Centuries\n",
              "batsman                                                   \n",
              "A Ashish Reddy           280   193   145.077720          0\n",
              "A Chandila                 4     7    57.142857          0\n",
              "A Chopra                  53    71    74.647887          0\n",
              "A Choudhary               25    20   125.000000          0\n",
              "A Dananjaya                4     5    80.000000          0"
            ]
          },
          "metadata": {},
          "execution_count": 57
        }
      ]
    },
    {
      "cell_type": "markdown",
      "metadata": {
        "id": "QTRujrqUvSjt"
      },
      "source": [
        "Which player scored the most number of centuries?"
      ]
    },
    {
      "cell_type": "code",
      "metadata": {
        "colab": {
          "base_uri": "https://localhost:8080/",
          "height": 357
        },
        "id": "hymUuSAYvTFN",
        "outputId": "94162e04-44e5-4c4e-a2fe-ecd1b83795be"
      },
      "source": [
        "top10 = batsman_stats.nlargest(n = 10, columns = 'Centuries')\n",
        "sns.barplot(x = top10.index, y = top10['Centuries'], )\n",
        "sns.despine()\n",
        "plt.title('Top 10 Batsmen - Highest number of Centuries')\n",
        "plt.ylabel('Centuries')\n",
        "_ = plt.xlabel('Batsmen')"
      ],
      "execution_count": null,
      "outputs": [
        {
          "output_type": "display_data",
          "data": {
            "image/png": "[encoded data removed]",
            "text/plain": [
              "<Figure size 936x360 with 1 Axes>"
            ]
          },
          "metadata": {
            "needs_background": "light"
          }
        }
      ]
    },
    {
      "cell_type": "markdown",
      "metadata": {
        "id": "uO9_lmFIvYxC"
      },
      "source": [
        "Chris Gayle scored 6 centuries which is the highest of all."
      ]
    },
    {
      "cell_type": "markdown",
      "metadata": {
        "id": "kLc6u-yhvY5M"
      },
      "source": [
        "Which batsman has the highest runs?"
      ]
    },
    {
      "cell_type": "code",
      "metadata": {
        "colab": {
          "base_uri": "https://localhost:8080/",
          "height": 357
        },
        "id": "bcvzlAD2vcVy",
        "outputId": "3eeadb49-ecc3-47cb-8f67-8dc81499f66e"
      },
      "source": [
        "top10 = batsman_stats.nlargest(n = 10, columns = 'batsman_runs')\n",
        "sns.barplot(x = top10.index, y = top10['batsman_runs'], )\n",
        "sns.despine()\n",
        "plt.title('Top 10 Batsmen - Highest number of Runs')\n",
        "plt.ylabel('Runs')\n",
        "_ = plt.xlabel('Batsmen')"
      ],
      "execution_count": null,
      "outputs": [
        {
          "output_type": "display_data",
          "data": {
            "image/png": "[encoded data removed]",
            "text/plain": [
              "<Figure size 936x360 with 1 Axes>"
            ]
          },
          "metadata": {
            "needs_background": "light"
          }
        }
      ]
    },
    {
      "cell_type": "markdown",
      "metadata": {
        "id": "cdBT8OpcvhIu"
      },
      "source": [
        "Virat Kohli scored the highest number of runs throuhout the IPL."
      ]
    },
    {
      "cell_type": "markdown",
      "metadata": {
        "id": "bBIeRIB1vhT4"
      },
      "source": [
        "Which player has the highest strike rate?"
      ]
    },
    {
      "cell_type": "code",
      "metadata": {
        "colab": {
          "base_uri": "https://localhost:8080/",
          "height": 357
        },
        "id": "pHQIQ-7Qvqsm",
        "outputId": "319157cc-c3d1-42ff-84d2-4b96447b440e"
      },
      "source": [
        "top10 = batsman_stats.nlargest(n = 10, columns = 'Strike_rate')\n",
        "sns.barplot(x = top10.index, y = top10['Strike_rate'], )\n",
        "sns.despine()\n",
        "plt.title('Top 10 Batsmen - Highest Strike Rate')\n",
        "plt.ylabel('Strike Rate')\n",
        "_ = plt.xlabel('Batsmen')"
      ],
      "execution_count": null,
      "outputs": [
        {
          "output_type": "display_data",
          "data": {
            "image/png": "[encoded data removed]",
            "text/plain": [
              "<Figure size 936x360 with 1 Axes>"
            ]
          },
          "metadata": {
            "needs_background": "light"
          }
        }
      ]
    },
    {
      "cell_type": "markdown",
      "metadata": {
        "id": "6h-NNLZ6vuTe"
      },
      "source": [
        "B Stanlake has the highest Strike rate."
      ]
    },
    {
      "cell_type": "markdown",
      "metadata": {
        "id": "2A6JT9_avuef"
      },
      "source": [
        "Similarly, we would also like to have some statistics on our bowlers as well, for e.g. total wickets, Maidens, Strike rate (balls / wicket), Bowling Average (Total runs / wickets).\n",
        "\n",
        "Data Preparation."
      ]
    },
    {
      "cell_type": "code",
      "metadata": {
        "id": "QXfZGDA_v0kT"
      },
      "source": [
        "run_per_over = deliveries.groupby(by =['bowler', 'id', 'over']).agg({'total_runs':'sum'})\n",
        "maidens = run_per_over['total_runs'].apply(lambda x: x == 0).sum(level = 0)"
      ],
      "execution_count": null,
      "outputs": []
    },
    {
      "cell_type": "code",
      "metadata": {
        "colab": {
          "base_uri": "https://localhost:8080/",
          "height": 236
        },
        "id": "dENIQgOdv3OR",
        "outputId": "3cff7cbe-e720-4bea-a451-06a27ce6d82f"
      },
      "source": [
        "bowler_stats = deliveries.groupby(by ='bowler').agg({'total_runs':'sum', 'ball': 'count', 'is_wicket':'sum'})\n",
        "bowler_stats['Strike_rate'] = np.divide(bowler_stats['ball'], bowler_stats['is_wicket'])\n",
        "bowler_stats['BowlingAve'] = np.divide(bowler_stats['total_runs'], bowler_stats['is_wicket'])\n",
        "bowler_stats['Maidens'] = maidens.astype('int32')\n",
        "bowler_stats.head()"
      ],
      "execution_count": null,
      "outputs": [
        {
          "output_type": "execute_result",
          "data": {
            "text/html": [
              "<div>\n",
              "<style scoped>\n",
              "    .dataframe tbody tr th:only-of-type {\n",
              "        vertical-align: middle;\n",
              "    }\n",
              "\n",
              "    .dataframe tbody tr th {\n",
              "        vertical-align: top;\n",
              "    }\n",
              "\n",
              "    .dataframe thead th {\n",
              "        text-align: right;\n",
              "    }\n",
              "</style>\n",
              "<table border=\"1\" class=\"dataframe\">\n",
              "  <thead>\n",
              "    <tr style=\"text-align: right;\">\n",
              "      <th></th>\n",
              "      <th>total_runs</th>\n",
              "      <th>ball</th>\n",
              "      <th>is_wicket</th>\n",
              "      <th>Strike_rate</th>\n",
              "      <th>BowlingAve</th>\n",
              "      <th>Maidens</th>\n",
              "    </tr>\n",
              "    <tr>\n",
              "      <th>bowler</th>\n",
              "      <th></th>\n",
              "      <th></th>\n",
              "      <th></th>\n",
              "      <th></th>\n",
              "      <th></th>\n",
              "      <th></th>\n",
              "    </tr>\n",
              "  </thead>\n",
              "  <tbody>\n",
              "    <tr>\n",
              "      <th>A Ashish Reddy</th>\n",
              "      <td>400</td>\n",
              "      <td>270</td>\n",
              "      <td>19</td>\n",
              "      <td>14.210526</td>\n",
              "      <td>21.052632</td>\n",
              "      <td>0</td>\n",
              "    </tr>\n",
              "    <tr>\n",
              "      <th>A Chandila</th>\n",
              "      <td>245</td>\n",
              "      <td>234</td>\n",
              "      <td>11</td>\n",
              "      <td>21.272727</td>\n",
              "      <td>22.272727</td>\n",
              "      <td>0</td>\n",
              "    </tr>\n",
              "    <tr>\n",
              "      <th>A Choudhary</th>\n",
              "      <td>144</td>\n",
              "      <td>108</td>\n",
              "      <td>5</td>\n",
              "      <td>21.600000</td>\n",
              "      <td>28.800000</td>\n",
              "      <td>2</td>\n",
              "    </tr>\n",
              "    <tr>\n",
              "      <th>A Dananjaya</th>\n",
              "      <td>47</td>\n",
              "      <td>25</td>\n",
              "      <td>0</td>\n",
              "      <td>inf</td>\n",
              "      <td>inf</td>\n",
              "      <td>0</td>\n",
              "    </tr>\n",
              "    <tr>\n",
              "      <th>A Flintoff</th>\n",
              "      <td>106</td>\n",
              "      <td>66</td>\n",
              "      <td>2</td>\n",
              "      <td>33.000000</td>\n",
              "      <td>53.000000</td>\n",
              "      <td>0</td>\n",
              "    </tr>\n",
              "  </tbody>\n",
              "</table>\n",
              "</div>"
            ],
            "text/plain": [
              "                total_runs  ball  is_wicket  Strike_rate  BowlingAve  Maidens\n",
              "bowler                                                                       \n",
              "A Ashish Reddy         400   270         19    14.210526   21.052632        0\n",
              "A Chandila             245   234         11    21.272727   22.272727        0\n",
              "A Choudhary            144   108          5    21.600000   28.800000        2\n",
              "A Dananjaya             47    25          0          inf         inf        0\n",
              "A Flintoff             106    66          2    33.000000   53.000000        0"
            ]
          },
          "metadata": {},
          "execution_count": 62
        }
      ]
    },
    {
      "cell_type": "markdown",
      "metadata": {
        "id": "hkw6gDOmv8hU"
      },
      "source": [
        "Which Bowler has delivered the most balls?"
      ]
    },
    {
      "cell_type": "code",
      "metadata": {
        "colab": {
          "base_uri": "https://localhost:8080/",
          "height": 357
        },
        "id": "pIp24S3kv9HG",
        "outputId": "cc7241c1-c101-4408-ba1a-4cba363957cc"
      },
      "source": [
        "top10 = bowler_stats.nlargest(n = 10, columns = 'ball')\n",
        "sns.barplot(x = top10.index, y = top10['ball'], )\n",
        "sns.despine()\n",
        "plt.title('Top 10 Bowlers - Highest number of Balls delivered')\n",
        "plt.ylabel('Balls')\n",
        "_ = plt.xlabel('Bowlers')"
      ],
      "execution_count": null,
      "outputs": [
        {
          "output_type": "display_data",
          "data": {
            "image/png": "[encoded data removed]",
            "text/plain": [
              "<Figure size 936x360 with 1 Axes>"
            ]
          },
          "metadata": {
            "needs_background": "light"
          }
        }
      ]
    },
    {
      "cell_type": "markdown",
      "metadata": {
        "id": "Vlz6gz6fwC3c"
      },
      "source": [
        "Harbhajan Singh delivered the most balls."
      ]
    },
    {
      "cell_type": "markdown",
      "metadata": {
        "id": "oV0lmDxewDCy"
      },
      "source": [
        "Which bowler took the most wickets?"
      ]
    },
    {
      "cell_type": "code",
      "metadata": {
        "colab": {
          "base_uri": "https://localhost:8080/",
          "height": 390
        },
        "id": "KuP6ux9ywGfC",
        "outputId": "6d660304-7e49-4213-ee6e-6c200aa640d1"
      },
      "source": [
        "top10 = bowler_stats.nlargest(n = 10, columns = 'is_wicket')\n",
        "sns.barplot(x = top10.index, y = top10['is_wicket'], )\n",
        "sns.despine()\n",
        "plt.title('Top 10 Bowlers - Highest number of Wickets')\n",
        "plt.ylabel('Wickets')\n",
        "_ = plt.xlabel('Bowlers')\n",
        "_ = plt.xticks(rotation = 20)"
      ],
      "execution_count": null,
      "outputs": [
        {
          "output_type": "display_data",
          "data": {
            "image/png": "[encoded data removed]",
            "text/plain": [
              "<Figure size 936x360 with 1 Axes>"
            ]
          },
          "metadata": {
            "needs_background": "light"
          }
        }
      ]
    },
    {
      "cell_type": "markdown",
      "metadata": {
        "id": "iN_J8hRuwLFD"
      },
      "source": [
        "SL Malinga took the most number of wickets."
      ]
    },
    {
      "cell_type": "markdown",
      "metadata": {
        "id": "l4hkrsbuwMbQ"
      },
      "source": [
        "Which bowler delivered the most number of Maidens?"
      ]
    },
    {
      "cell_type": "code",
      "metadata": {
        "colab": {
          "base_uri": "https://localhost:8080/",
          "height": 391
        },
        "id": "pRUbwHxgwP9d",
        "outputId": "1150797a-16e4-4994-89a8-3ecb7b671295"
      },
      "source": [
        "top10 = bowler_stats.nlargest(n = 10, columns = 'Maidens')\n",
        "sns.barplot(x = top10.index, y = top10['Maidens'], )\n",
        "sns.despine()\n",
        "plt.title('Top 10 Bowlers - Highest number of Maidens delivered')\n",
        "plt.ylabel('Maidens')\n",
        "_ = plt.xlabel('Bowlers')\n",
        "_ = plt.xticks(rotation = 20)"
      ],
      "execution_count": null,
      "outputs": [
        {
          "output_type": "display_data",
          "data": {
            "image/png": "[encoded data removed]",
            "text/plain": [
              "<Figure size 936x360 with 1 Axes>"
            ]
          },
          "metadata": {
            "needs_background": "light"
          }
        }
      ]
    },
    {
      "cell_type": "markdown",
      "metadata": {
        "id": "HdEOYFiywUdQ"
      },
      "source": [
        "P Kumar delivered the most number of maiden."
      ]
    },
    {
      "cell_type": "markdown",
      "metadata": {
        "id": "fUHE8IlSwVkM"
      },
      "source": [
        "Which batsmen has played the most number of matches throughout the IPL?"
      ]
    },
    {
      "cell_type": "code",
      "metadata": {
        "id": "I0Md2jxMwZVn"
      },
      "source": [
        "matches_played_batsman = deliveries.groupby(by = ['batsman', 'id'], as_index=False).size().reset_index()['batsman'].value_counts()\n",
        "matches_played_batsman = matches_played_batsman.sort_values(ascending = False).iloc[:10]"
      ],
      "execution_count": null,
      "outputs": []
    },
    {
      "cell_type": "code",
      "metadata": {
        "colab": {
          "base_uri": "https://localhost:8080/",
          "height": 357
        },
        "id": "VEfXKLajwbuh",
        "outputId": "af6562b7-0498-4299-c106-3784c385c3ba"
      },
      "source": [
        "sns.barplot(x = matches_played_batsman.index, y = matches_played_batsman.values)\n",
        "sns.despine()\n",
        "plt.title('Top 10 - Highest number of matches played by Batsmen')\n",
        "plt.ylabel('No. of matches')\n",
        "_ = plt.xlabel('Batsmen')"
      ],
      "execution_count": null,
      "outputs": [
        {
          "output_type": "display_data",
          "data": {
            "image/png": "[encoded data removed]",
            "text/plain": [
              "<Figure size 936x360 with 1 Axes>"
            ]
          },
          "metadata": {
            "needs_background": "light"
          }
        }
      ]
    },
    {
      "cell_type": "markdown",
      "metadata": {
        "id": "ujaEYeDlwejo"
      },
      "source": [
        "Rohit Sharma has played the most number of matches."
      ]
    },
    {
      "cell_type": "markdown",
      "metadata": {
        "id": "wXUE9VaCwevQ"
      },
      "source": [
        "Which bowlers played the most number of matches throughout the IPL?"
      ]
    },
    {
      "cell_type": "code",
      "metadata": {
        "id": "M80hzsU_woCV"
      },
      "source": [
        "matches_played_bowler = deliveries.groupby(by = ['bowler', 'id'], as_index=False).size().reset_index()['bowler'].value_counts()\n",
        "matches_played_bowler = matches_played_bowler.sort_values(ascending = False).iloc[:10]"
      ],
      "execution_count": null,
      "outputs": []
    },
    {
      "cell_type": "code",
      "metadata": {
        "colab": {
          "base_uri": "https://localhost:8080/",
          "height": 390
        },
        "id": "-ytNVJsEwqTh",
        "outputId": "113ed70c-1a31-4a9a-806d-966f8f3a21c3"
      },
      "source": [
        "sns.barplot(x = matches_played_bowler.index, y = matches_played_bowler.values,)\n",
        "sns.despine()\n",
        "plt.title('Top 10 - Highest number of matches played by Bowler')\n",
        "plt.ylabel('No. of matches')\n",
        "plt.xticks(rotation = 20)\n",
        "_ = plt.xlabel('Bowlers')"
      ],
      "execution_count": null,
      "outputs": [
        {
          "output_type": "display_data",
          "data": {
            "image/png": "[encoded data removed]",
            "text/plain": [
              "<Figure size 936x360 with 1 Axes>"
            ]
          },
          "metadata": {
            "needs_background": "light"
          }
        }
      ]
    },
    {
      "cell_type": "markdown",
      "metadata": {
        "id": "SeayoYEmwvr-"
      },
      "source": [
        "PP Chawla has played the most number of matches."
      ]
    },
    {
      "cell_type": "markdown",
      "metadata": {
        "id": "PYyFO8EAwv1x"
      },
      "source": [
        "THANK YOU"
      ]
    },
    {
      "cell_type": "code",
      "metadata": {
        "id": "d08KKRaMwzkK"
      },
      "source": [
        ""
      ],
      "execution_count": null,
      "outputs": []
    }
  ]
}